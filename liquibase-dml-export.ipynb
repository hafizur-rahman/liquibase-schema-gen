{
 "cells": [
  {
   "cell_type": "code",
   "execution_count": null,
   "metadata": {},
   "outputs": [],
   "source": [
    "import re\n",
    "import os\n",
    "import shutil\n",
    "\n",
    "from datetime import datetime\n",
    "\n",
    "output_dir='../src/main/resources/\n",
    "\n",
    "def snippet_filename(schema, table_name, version, counter):\n",
    "    return '{}/{}-dml-{}-{:02d}.sql'.format(schema, table_name, version, counter)"
   ]
  },
  {
   "cell_type": "code",
   "execution_count": null,
   "metadata": {},
   "outputs": [],
   "source": [
    "default_stmt = ['--liquibase formatted sql\\n\\n']\n",
    "\n",
    "def create_snippets(schema, order):\n",
    "    start = r\"LOCK TABLES `(.*)` WRITE;\"\n",
    "    end = r\"UNLOCK TABLES;\"\n",
    "    insert_stmt = r\"INSERT INTO `(.*)` VALUES\"\n",
    "    \n",
    "    file_name = '{}_dml.sql'.format(schema)\n",
    "    \n",
    "    output_files=[]\n",
    "    \n",
    "    with open(file_name, encoding='UTF-8') as f:\n",
    "        table_order = 10\n",
    "        counter = 0\n",
    "        \n",
    "        all_lines = f.readlines()\n",
    "\n",
    "        table_name = None\n",
    "        append=False\n",
    "        \n",
    "        stmt = default_stmt.copy()\n",
    "\n",
    "        fk_stmt = []\n",
    "        for line in all_lines:            \n",
    "            m1 = re.search(start, line)\n",
    "            m2 = re.search(end, line)\n",
    "            m3 = re.search(insert_stmt, line)\n",
    "            m4 = re.search(r\"/*!40000 ALTER TABLE\", line)\n",
    "            \n",
    "            skip = False\n",
    "            \n",
    "            if (m3):\n",
    "                table_name = m3.group(1)\n",
    "                #print(table_name)\n",
    "                    \n",
    "                if len(stmt) == 0:\n",
    "                    stmt = default_stmt.copy()\n",
    "                    \n",
    "                if not append and not skip:\n",
    "                    append = True\n",
    "                    changeset_comment='--changeset bibagimon@gmail.com:{}.{}\\n'.format(order, table_order)\n",
    "                    stmt.append(changeset_comment)\n",
    "                \n",
    "                \n",
    "            if append and not m2 and not m4:\n",
    "                if m3:\n",
    "                    line = re.sub(insert_stmt, \"INSERT INTO `{}`.`{}` VALUES\".format(schema, table_name), line)\n",
    "                stmt.append(line)\n",
    "\n",
    "                \n",
    "            if append and m2 and table_name:\n",
    "                append = False\n",
    "                stmt.append('--rollback DELETE FROM `{}`.`{}`;\\n'.format(schema, table_name))\n",
    "                stmt.append('\\n\\n')\n",
    "                \n",
    "                output_file=snippet_filename(schema, table_name, '1.2.0', 1)\n",
    "                output_files.append(output_file)\n",
    "                #print(output_file)\n",
    "\n",
    "                if not os.path.exists(output_dir + schema):\n",
    "                    os.mkdir(output_dir + schema)\n",
    "\n",
    "                with open(output_dir + output_file, 'w') as out:\n",
    "                    out.writelines(stmt)\n",
    "                    out.flush()\n",
    "\n",
    "                table_name = None\n",
    "                table_order += 1\n",
    "                stmt = []\n",
    "                \n",
    "    return output_files"
   ]
  },
  {
   "cell_type": "code",
   "execution_count": null,
   "metadata": {},
   "outputs": [],
   "source": [
    "schemas = ['bpm', 'product', 'reference']\n",
    "\n",
    "all_output_files=[]\n",
    "for i, schema in enumerate(schemas):\n",
    "    all_output_files.append(create_snippets(schema, i+11))"
   ]
  },
  {
   "cell_type": "code",
   "execution_count": null,
   "metadata": {},
   "outputs": [],
   "source": [
    "for item in all_output_files:\n",
    "    for file in sorted(item):\n",
    "        print('<include file=\"{}\" relativeToChangelogFile=\"true\"/>'.format(file))"
   ]
  }
 ],
 "metadata": {
  "kernelspec": {
   "display_name": "Python 3",
   "language": "python",
   "name": "python3"
  },
  "language_info": {
   "codemirror_mode": {
    "name": "ipython",
    "version": 3
   },
   "file_extension": ".py",
   "mimetype": "text/x-python",
   "name": "python",
   "nbconvert_exporter": "python",
   "pygments_lexer": "ipython3",
   "version": "3.6.9"
  }
 },
 "nbformat": 4,
 "nbformat_minor": 4
}
